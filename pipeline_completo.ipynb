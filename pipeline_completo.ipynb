{
 "cells": [
  {
   "cell_type": "code",
   "execution_count": 4,
   "source": [
    "from solution.ml.sentiment import AddSentimentAnalysis\n",
    "from solution.ml.clustering import cluster\n",
    "from solution.recollection.get_tweets import get_tweets\n",
    "import pandas as pd\n",
    "import statistics as stats"
   ],
   "outputs": [],
   "metadata": {}
  },
  {
   "cell_type": "markdown",
   "source": [
    "Si corren todo sin traducir, los resultados salen extraños por las stopwords, pero traducir toma un muy buen rato"
   ],
   "metadata": {}
  },
  {
   "cell_type": "code",
   "execution_count": 5,
   "source": [
    "df = pd.read_pickle(\"./data/embs.pkl\")"
   ],
   "outputs": [],
   "metadata": {}
  },
  {
   "cell_type": "code",
   "execution_count": null,
   "source": [
    "df"
   ],
   "outputs": [],
   "metadata": {}
  },
  {
   "cell_type": "markdown",
   "source": [
    "# Funcionamiento de translating.py"
   ],
   "metadata": {}
  },
  {
   "cell_type": "code",
   "execution_count": null,
   "source": [
    "from solution.ml.translating import TranslateDataframe"
   ],
   "outputs": [],
   "metadata": {}
  },
  {
   "cell_type": "code",
   "execution_count": null,
   "source": [
    "#Tarda bastante en correrse, 0.4s por tweet, calcularía que 1600-2000 segundos por los 4000 tweets de pickle\n",
    "df = TranslateDataframe(df)\n",
    "#Sustituye la columna de texto del dataframe por texto traducido (solo traduce dicha columna)"
   ],
   "outputs": [],
   "metadata": {}
  },
  {
   "cell_type": "markdown",
   "source": [
    "# Funcionamiento de n gramas"
   ],
   "metadata": {}
  },
  {
   "cell_type": "code",
   "execution_count": null,
   "source": [
    "from solution.viz.ngrams import ngram\n",
    "import nltk\n",
    "\n",
    "#No supe como hacerle para que te guardara los plots gg detalles en viz/ngrams.py\n",
    "ngram(df, 2, \"./\")"
   ],
   "outputs": [],
   "metadata": {}
  },
  {
   "cell_type": "markdown",
   "source": [
    "# Funcionamiento de wordclouds"
   ],
   "metadata": {}
  },
  {
   "cell_type": "code",
   "execution_count": null,
   "source": [
    "from solution.viz.wordclouds import GenWordcloud\n",
    "\n",
    "GenWordcloud(df, \"prueba.png\")"
   ],
   "outputs": [],
   "metadata": {}
  },
  {
   "cell_type": "markdown",
   "source": [
    "# Para análisis de sentimiento"
   ],
   "metadata": {}
  },
  {
   "cell_type": "code",
   "execution_count": 6,
   "source": [
    "from solution.ml.sentiment import AddSentimentAnalysis\n",
    "\n",
    "#Recibe el dataframe ya traducido\n",
    "df = AddSentimentAnalysis(df)"
   ],
   "outputs": [],
   "metadata": {}
  },
  {
   "cell_type": "markdown",
   "source": [
    "# Para histogramas"
   ],
   "metadata": {}
  },
  {
   "cell_type": "code",
   "execution_count": 11,
   "source": [
    "hist = df[\"Sentiment\"].value_counts()"
   ],
   "outputs": [],
   "metadata": {}
  },
  {
   "cell_type": "code",
   "execution_count": 12,
   "source": [
    "hist"
   ],
   "outputs": [
    {
     "output_type": "execute_result",
     "data": {
      "text/plain": [
       " 0.0000    372\n",
       "-0.2960    139\n",
       "-0.5267     30\n",
       "-0.3595     14\n",
       "-0.6808      9\n",
       "          ... \n",
       " 0.1999      1\n",
       "-0.5759      1\n",
       "-0.6523      1\n",
       "-0.5514      1\n",
       "-0.7276      1\n",
       "Name: Sentiment, Length: 72, dtype: int64"
      ]
     },
     "metadata": {},
     "execution_count": 12
    }
   ],
   "metadata": {}
  },
  {
   "cell_type": "code",
   "execution_count": null,
   "source": [],
   "outputs": [],
   "metadata": {}
  }
 ],
 "metadata": {
  "orig_nbformat": 4,
  "language_info": {
   "name": "python",
   "version": "3.9.5",
   "mimetype": "text/x-python",
   "codemirror_mode": {
    "name": "ipython",
    "version": 3
   },
   "pygments_lexer": "ipython3",
   "nbconvert_exporter": "python",
   "file_extension": ".py"
  },
  "kernelspec": {
   "name": "python3",
   "display_name": "Python 3.9.5 64-bit ('venv': venv)"
  },
  "interpreter": {
   "hash": "c251c559d017e29bcfe7a57ae2c1134fad5e218a611f23d7151181f31ead6266"
  }
 },
 "nbformat": 4,
 "nbformat_minor": 2
}